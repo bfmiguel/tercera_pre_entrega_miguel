{
  "nbformat": 4,
  "nbformat_minor": 0,
  "metadata": {
    "colab": {
      "provenance": [],
      "collapsed_sections": [
        "FHM1n5m8h2RD",
        "eYeTiMGHcJnf",
        "6n-7nGZVgk-d",
        "bOQ3Iv82g4sd",
        "kFRAwt7ahGh5",
        "NkxvVTcRhS_c"
      ]
    },
    "kernelspec": {
      "name": "python3",
      "display_name": "Python 3"
    },
    "language_info": {
      "name": "python"
    }
  },
  "cells": [
    {
      "cell_type": "markdown",
      "source": [
        "# **Introducción**\n",
        "Este script tiene como objetivo extraer datos de recetas de comida desde la API pública de TheMealDB, transformarlos y cargarlos en una tabla de Amazon Redshift. La selección de variables se realizó para capturar la información más relevante y completa sobre cada receta"
      ],
      "metadata": {
        "id": "e7hTUPIAb8K0"
      }
    },
    {
      "cell_type": "markdown",
      "source": [
        "# **Instalacion de librerías**"
      ],
      "metadata": {
        "id": "FHM1n5m8h2RD"
      }
    },
    {
      "cell_type": "code",
      "source": [
        "\n",
        "!pip install python-dotenv\n",
        "!pip install requests psycopg2-binary\n"
      ],
      "metadata": {
        "colab": {
          "base_uri": "https://localhost:8080/"
        },
        "id": "_X6qa4XJWASL",
        "outputId": "c7fb04f3-e617-48b0-a9ea-5c7fb80910c7"
      },
      "execution_count": null,
      "outputs": [
        {
          "output_type": "stream",
          "name": "stdout",
          "text": [
            "Collecting python-dotenv\n",
            "  Downloading python_dotenv-1.0.1-py3-none-any.whl.metadata (23 kB)\n",
            "Downloading python_dotenv-1.0.1-py3-none-any.whl (19 kB)\n",
            "Installing collected packages: python-dotenv\n",
            "Successfully installed python-dotenv-1.0.1\n",
            "Requirement already satisfied: requests in /usr/local/lib/python3.10/dist-packages (2.32.3)\n",
            "Collecting psycopg2-binary\n",
            "  Downloading psycopg2_binary-2.9.9-cp310-cp310-manylinux_2_17_x86_64.manylinux2014_x86_64.whl.metadata (4.4 kB)\n",
            "Requirement already satisfied: charset-normalizer<4,>=2 in /usr/local/lib/python3.10/dist-packages (from requests) (3.3.2)\n",
            "Requirement already satisfied: idna<4,>=2.5 in /usr/local/lib/python3.10/dist-packages (from requests) (3.7)\n",
            "Requirement already satisfied: urllib3<3,>=1.21.1 in /usr/local/lib/python3.10/dist-packages (from requests) (2.0.7)\n",
            "Requirement already satisfied: certifi>=2017.4.17 in /usr/local/lib/python3.10/dist-packages (from requests) (2024.7.4)\n",
            "Downloading psycopg2_binary-2.9.9-cp310-cp310-manylinux_2_17_x86_64.manylinux2014_x86_64.whl (3.0 MB)\n",
            "\u001b[2K   \u001b[90m━━━━━━━━━━━━━━━━━━━━━━━━━━━━━━━━━━━━━━━━\u001b[0m \u001b[32m3.0/3.0 MB\u001b[0m \u001b[31m25.8 MB/s\u001b[0m eta \u001b[36m0:00:00\u001b[0m\n",
            "\u001b[?25hInstalling collected packages: psycopg2-binary\n",
            "Successfully installed psycopg2-binary-2.9.9\n"
          ]
        }
      ]
    },
    {
      "cell_type": "code",
      "source": [
        "import os\n",
        "# Librería estándar de Python para interactuar con el sistema operativo, manejar rutas y variables de entorno.\n",
        "\n",
        "from dotenv import load_dotenv\n",
        "# Librería para cargar variables de entorno desde un archivo .env, útil para gestionar credenciales de forma segura.\n",
        "\n",
        "import requests\n",
        "# Librería para hacer solicitudes HTTP en Python, ideal para interactuar con APIs y obtener datos en formato JSON.\n",
        "\n",
        "import psycopg2\n",
        "# Librería para conectarse y ejecutar consultas en bases de datos PostgreSQL y Amazon Redshift.\n",
        "\n",
        "import json\n",
        "# Librería estándar de Python para trabajar con datos en formato JSON, permitiendo la serialización y deserialización de datos.\n"
      ],
      "metadata": {
        "id": "eqKzUXvCWSj7"
      },
      "execution_count": null,
      "outputs": []
    },
    {
      "cell_type": "markdown",
      "source": [
        "# **Se crea el archivo .env**"
      ],
      "metadata": {
        "id": "eYeTiMGHcJnf"
      }
    },
    {
      "cell_type": "code",
      "source": [
        "with open('.env', 'w') as f:\n",
        "    f.write(\"\"\"\n",
        "DB_HOST=data-engineer-cluster.cyhh5bfevlmn.us-east-1.redshift.amazonaws.com\n",
        "DB_PORT=5439\n",
        "DB_USER=bf_miguel_coderhouse\n",
        "DB_PASS=HW767tUWkj\n",
        "DB_NAME=dev\n",
        "    \"\"\")\n",
        "\n",
        "# Verificacion del archivo\n",
        "!cat .env\n"
      ],
      "metadata": {
        "colab": {
          "base_uri": "https://localhost:8080/"
        },
        "id": "cGXsrwnhVylp",
        "outputId": "fa777b12-464e-447c-80c3-4b04e21680a0"
      },
      "execution_count": null,
      "outputs": [
        {
          "output_type": "stream",
          "name": "stdout",
          "text": [
            "\n",
            "DB_HOST=data-engineer-cluster.cyhh5bfevlmn.us-east-1.redshift.amazonaws.com\n",
            "DB_PORT=5439\n",
            "DB_USER=bf_miguel_coderhouse\n",
            "DB_PASS=HW767tUWkj\n",
            "DB_NAME=dev\n",
            "    "
          ]
        }
      ]
    },
    {
      "cell_type": "markdown",
      "source": [
        "# **Se cargan las variables de entorno**"
      ],
      "metadata": {
        "id": "6n-7nGZVgk-d"
      }
    },
    {
      "cell_type": "code",
      "source": [
        "load_dotenv('.env')\n",
        "\n",
        "# Verificar que las variables se han cargado correctamente\n",
        "print(os.getenv('DB_HOST'))\n",
        "print(os.getenv('DB_USER'))"
      ],
      "metadata": {
        "colab": {
          "base_uri": "https://localhost:8080/"
        },
        "id": "OZ0306o-Wi8G",
        "outputId": "6f74542b-85b2-458f-a741-2087dd7cc90e"
      },
      "execution_count": null,
      "outputs": [
        {
          "output_type": "stream",
          "name": "stdout",
          "text": [
            "data-engineer-cluster.cyhh5bfevlmn.us-east-1.redshift.amazonaws.com\n",
            "bf_miguel_coderhouse\n"
          ]
        }
      ]
    },
    {
      "cell_type": "markdown",
      "source": [
        "# **Se realiza la configuración de la API**"
      ],
      "metadata": {
        "id": "bOQ3Iv82g4sd"
      }
    },
    {
      "cell_type": "code",
      "source": [
        "api_url = \"https://www.themealdb.com/api/json/v1/1/search.php?s=Arrabiata\"\n",
        "response = requests.get(api_url)\n",
        "data = response.json()"
      ],
      "metadata": {
        "id": "2TZOSGiDUN5k"
      },
      "execution_count": null,
      "outputs": []
    },
    {
      "cell_type": "markdown",
      "source": [
        "# **Se extraen y transforman los datos**"
      ],
      "metadata": {
        "id": "kFRAwt7ahGh5"
      }
    },
    {
      "cell_type": "markdown",
      "source": [
        "Extraemos los campos relevantes de cada receta y los organizamos en una lista de tuplas (transformed_data). Los campos seleccionados son:\n",
        "\n",
        "- idMeal: Identificador único de la receta.\n",
        "- strMeal: Nombre de la receta.\n",
        "- strCategory: Categoría de la receta (e.g., vegetariana).\n",
        "- strArea: Región de origen de la receta.\n",
        "- strInstructions: Instrucciones para preparar la receta.\n",
        "- strMealThumb: URL de la imagen de la receta.\n",
        "- strTags: Etiquetas asociadas a la receta.\n",
        "- strYoutube: URL del video de YouTube de la receta."
      ],
      "metadata": {
        "id": "t4jGOB_eiWGh"
      }
    },
    {
      "cell_type": "code",
      "source": [
        "meals = data['meals']\n",
        "transformed_data = []\n",
        "for meal in meals:\n",
        "    transformed_data.append((\n",
        "        meal['idMeal'],\n",
        "        meal['strMeal'],\n",
        "        meal['strCategory'],\n",
        "        meal['strArea'],\n",
        "        meal['strInstructions'],\n",
        "        meal['strMealThumb'],\n",
        "        meal['strTags'],\n",
        "        meal['strYoutube']\n",
        "    ))"
      ],
      "metadata": {
        "id": "tEu7qYSsUVsi"
      },
      "execution_count": null,
      "outputs": []
    },
    {
      "cell_type": "markdown",
      "source": [
        "# **Se realiza la configuración de la conexión a Redshift**"
      ],
      "metadata": {
        "id": "NkxvVTcRhS_c"
      }
    },
    {
      "cell_type": "code",
      "source": [
        "\n",
        "conn = psycopg2.connect(\n",
        "    host=os.getenv('DB_HOST'),\n",
        "    port=os.getenv('DB_PORT'),\n",
        "    user=os.getenv('DB_USER'),\n",
        "    password=os.getenv('DB_PASS'),\n",
        "    dbname='data-engineer-database'\n",
        ")\n",
        "cur = conn.cursor()\n",
        "\n",
        "try:\n",
        "    # Crear la tabla en Redshift con tipos de datos ajustados\n",
        "    create_table_query = \"\"\"\n",
        "    CREATE TABLE IF NOT EXISTS meal_data (\n",
        "        idMeal VARCHAR(50),\n",
        "        strMeal TEXT,\n",
        "        strCategory TEXT,\n",
        "        strArea TEXT,\n",
        "        strInstructions TEXT,\n",
        "        strMealThumb TEXT,\n",
        "        strTags TEXT,\n",
        "        strYoutube TEXT,\n",
        "        ingestion_time TIMESTAMP DEFAULT GETDATE()\n",
        "    );\n",
        "    \"\"\"\n",
        "    cur.execute(create_table_query)\n",
        "    conn.commit()\n",
        "\n",
        "    # Insertar los datos en la tabla\n",
        "    insert_query = \"\"\"\n",
        "    INSERT INTO meal_data (idMeal, strMeal, strCategory, strArea, strInstructions, strMealThumb, strTags, strYoutube)\n",
        "    VALUES (%s, %s, %s, %s, %s, %s, %s, %s)\n",
        "    \"\"\"\n",
        "    for record in transformed_data:\n",
        "        try:\n",
        "            cur.execute(insert_query, record)\n",
        "        except Exception as e:\n",
        "            print(f\"Error inserting record {record}: {e}\")\n",
        "            conn.rollback()  # Abortar la transacción en caso de error\n",
        "\n",
        "    conn.commit()  # Confirmar todas las inserciones exitosas\n",
        "\n",
        "except Exception as e:\n",
        "    print(f\"Error creating table or inserting data: {e}\")\n",
        "    conn.rollback()\n",
        "finally:\n",
        "    # Cerrar la conexión\n",
        "    cur.close()\n",
        "    conn.close()\n",
        "\n",
        "print(\"Proceso completado\")"
      ],
      "metadata": {
        "colab": {
          "base_uri": "https://localhost:8080/"
        },
        "id": "bJJDe4CQZxqJ",
        "outputId": "841d0af6-6098-40e4-ee64-888f4c06f8f3"
      },
      "execution_count": null,
      "outputs": [
        {
          "output_type": "stream",
          "name": "stdout",
          "text": [
            "Error inserting record ('52771', 'Spicy Arrabiata Penne', 'Vegetarian', 'Italian', 'Bring a large pot of water to a boil. Add kosher salt to the boiling water, then add the pasta. Cook according to the package instructions, about 9 minutes.\\r\\nIn a large skillet over medium-high heat, add the olive oil and heat until the oil starts to shimmer. Add the garlic and cook, stirring, until fragrant, 1 to 2 minutes. Add the chopped tomatoes, red chile flakes, Italian seasoning and salt and pepper to taste. Bring to a boil and cook for 5 minutes. Remove from the heat and add the chopped basil.\\r\\nDrain the pasta and add it to the sauce. Garnish with Parmigiano-Reggiano flakes and more basil and serve warm.', 'https://www.themealdb.com/images/media/meals/ustsqw1468250014.jpg', 'Pasta,Curry', 'https://www.youtube.com/watch?v=1IszT_guI08'): value too long for type character varying(256)\n",
            "\n",
            "Proceso completado\n"
          ]
        }
      ]
    }
  ]
}